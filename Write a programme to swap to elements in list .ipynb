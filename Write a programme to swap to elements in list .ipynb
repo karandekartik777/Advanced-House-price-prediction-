{
 "cells": [
  {
   "cell_type": "code",
   "execution_count": 4,
   "id": "ad993b02",
   "metadata": {},
   "outputs": [
    {
     "name": "stdout",
     "output_type": "stream",
     "text": [
      "[23, 90, 19, 65]\n"
     ]
    }
   ],
   "source": [
    "def swap_Position(list, pos1, pos2):\n",
    "    temp=list[pos1]\n",
    "    list[pos1]=list[pos2]\n",
    "    list[pos2]=temp\n",
    "    \n",
    "    return list\n",
    "\n",
    "list=[23,65,19,90]\n",
    "print(swap_Position(list,1, 3))"
   ]
  },
  {
   "cell_type": "code",
   "execution_count": null,
   "id": "bee83921",
   "metadata": {},
   "outputs": [],
   "source": []
  }
 ],
 "metadata": {
  "kernelspec": {
   "display_name": "Python 3",
   "language": "python",
   "name": "python3"
  },
  "language_info": {
   "codemirror_mode": {
    "name": "ipython",
    "version": 3
   },
   "file_extension": ".py",
   "mimetype": "text/x-python",
   "name": "python",
   "nbconvert_exporter": "python",
   "pygments_lexer": "ipython3",
   "version": "3.8.8"
  }
 },
 "nbformat": 4,
 "nbformat_minor": 5
}
