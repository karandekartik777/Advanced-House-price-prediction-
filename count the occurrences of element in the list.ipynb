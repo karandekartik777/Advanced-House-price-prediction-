{
 "cells": [
  {
   "cell_type": "code",
   "execution_count": 13,
   "id": "70dc126d",
   "metadata": {},
   "outputs": [],
   "source": [
    "def count_occurances(list1, number):\n",
    "    count=0\n",
    "    for i in list1:\n",
    "        if i==number:\n",
    "            count=count+1\n",
    "    return count"
   ]
  },
  {
   "cell_type": "code",
   "execution_count": 14,
   "id": "b021a1c1",
   "metadata": {},
   "outputs": [
    {
     "data": {
      "text/plain": [
       "5"
      ]
     },
     "execution_count": 14,
     "metadata": {},
     "output_type": "execute_result"
    }
   ],
   "source": [
    "list1=[1,2,3,4,1,1,3,1,34,1]\n",
    "count_occurances(list1, 1)"
   ]
  },
  {
   "cell_type": "code",
   "execution_count": null,
   "id": "8aee8c23",
   "metadata": {},
   "outputs": [],
   "source": []
  },
  {
   "cell_type": "code",
   "execution_count": null,
   "id": "381ede5f",
   "metadata": {},
   "outputs": [],
   "source": []
  }
 ],
 "metadata": {
  "kernelspec": {
   "display_name": "Python 3",
   "language": "python",
   "name": "python3"
  },
  "language_info": {
   "codemirror_mode": {
    "name": "ipython",
    "version": 3
   },
   "file_extension": ".py",
   "mimetype": "text/x-python",
   "name": "python",
   "nbconvert_exporter": "python",
   "pygments_lexer": "ipython3",
   "version": "3.8.8"
  }
 },
 "nbformat": 4,
 "nbformat_minor": 5
}
