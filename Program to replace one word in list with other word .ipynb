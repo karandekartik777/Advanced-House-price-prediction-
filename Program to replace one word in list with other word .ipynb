{
 "cells": [
  {
   "cell_type": "code",
   "execution_count": 3,
   "id": "ff3725c6",
   "metadata": {},
   "outputs": [
    {
     "name": "stdout",
     "output_type": "stream",
     "text": [
      "['MprtiM', 'Mirpn', 'DptpKube']\n"
     ]
    }
   ],
   "source": [
    "test=['kartik', 'kiran', 'DataKube']\n",
    "\n",
    "original_list=(f'original list is  {test}')\n",
    "\n",
    "modified_list=[k.replace('k','M').replace('a','p') for k in test]\n",
    "print(modified_list)"
   ]
  },
  {
   "cell_type": "code",
   "execution_count": null,
   "id": "d4b49b46",
   "metadata": {},
   "outputs": [],
   "source": []
  }
 ],
 "metadata": {
  "kernelspec": {
   "display_name": "Python 3",
   "language": "python",
   "name": "python3"
  },
  "language_info": {
   "codemirror_mode": {
    "name": "ipython",
    "version": 3
   },
   "file_extension": ".py",
   "mimetype": "text/x-python",
   "name": "python",
   "nbconvert_exporter": "python",
   "pygments_lexer": "ipython3",
   "version": "3.8.8"
  }
 },
 "nbformat": 4,
 "nbformat_minor": 5
}
