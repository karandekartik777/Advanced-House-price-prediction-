{
 "cells": [
  {
   "cell_type": "code",
   "execution_count": 10,
   "id": "010a193f",
   "metadata": {},
   "outputs": [
    {
     "name": "stdout",
     "output_type": "stream",
     "text": [
      "28\n"
     ]
    }
   ],
   "source": [
    "list_ = [1,2,3,4,5,6,7]\n",
    "count=0\n",
    "for i in list_:\n",
    "    count=count+i\n",
    "print(count)"
   ]
  },
  {
   "cell_type": "code",
   "execution_count": null,
   "id": "e7e03708",
   "metadata": {},
   "outputs": [],
   "source": []
  },
  {
   "cell_type": "markdown",
   "id": "6a4d0439",
   "metadata": {},
   "source": [
    "# python program to find the sum of number digit in list"
   ]
  },
  {
   "cell_type": "code",
   "execution_count": null,
   "id": "0243a271",
   "metadata": {},
   "outputs": [],
   "source": [
    "# The original list is : [12, 67, 98, 34]\n",
    "# List Integer Summation : [3, 13, 17, 7]"
   ]
  },
  {
   "cell_type": "code",
   "execution_count": 25,
   "id": "8c718f5d",
   "metadata": {},
   "outputs": [
    {
     "name": "stdout",
     "output_type": "stream",
     "text": [
      "[8, 7, 5, 4, 13, 15, 1, 8]\n"
     ]
    }
   ],
   "source": [
    "list1= [44, 25, 41, 22, 94, 78, 10, 8]\n",
    "new_list=[]\n",
    "for i in list1:\n",
    "    sum=0\n",
    "    for ele in str(i):\n",
    "        sum+=int(ele)\n",
    "    new_list.append(sum)\n",
    "    \n",
    "        \n",
    "    \n",
    "print(str(new_list))"
   ]
  },
  {
   "cell_type": "markdown",
   "id": "169350e3",
   "metadata": {},
   "source": [
    "# write a programme to find the sum and average of list "
   ]
  },
  {
   "cell_type": "code",
   "execution_count": 19,
   "id": "080d0e6e",
   "metadata": {},
   "outputs": [
    {
     "name": "stdout",
     "output_type": "stream",
     "text": [
      "46\n",
      "5.75\n"
     ]
    }
   ],
   "source": [
    "list_ =  [4, 5, 1, 2, 9, 7, 10, 8]\n",
    "count=0\n",
    "for i in list_:\n",
    "    count=count+i\n",
    "print(count)\n",
    "\n",
    "avg=count/len(list_)\n",
    "print(avg)"
   ]
  },
  {
   "cell_type": "markdown",
   "id": "bf617be8",
   "metadata": {},
   "source": [
    "# Program for Sum of the digits of a given number"
   ]
  },
  {
   "cell_type": "code",
   "execution_count": 28,
   "id": "ba921f77",
   "metadata": {},
   "outputs": [],
   "source": [
    "# number=1234\n",
    "# sum=10"
   ]
  },
  {
   "cell_type": "code",
   "execution_count": 29,
   "id": "910763cb",
   "metadata": {},
   "outputs": [
    {
     "name": "stdout",
     "output_type": "stream",
     "text": [
      "21\n"
     ]
    }
   ],
   "source": [
    "\n",
    " \n",
    "def getSum(n):\n",
    " \n",
    "    sum = 0\n",
    " \n",
    "    # Single line that calculates sum\n",
    "    while(n > 0):\n",
    "        sum += int(n % 10)\n",
    "        n = int(n/10)\n",
    " \n",
    "    return sum\n",
    " \n",
    "\n",
    "n = 687\n",
    "print(getSum(n))"
   ]
  },
  {
   "cell_type": "markdown",
   "id": "9c6f2c1c",
   "metadata": {},
   "source": [
    "# multiply all numbers in list "
   ]
  },
  {
   "cell_type": "code",
   "execution_count": 30,
   "id": "a0a31dc8",
   "metadata": {},
   "outputs": [
    {
     "name": "stdout",
     "output_type": "stream",
     "text": [
      "5040\n"
     ]
    }
   ],
   "source": [
    "list2=[1,2,3,4,5,6,7]\n",
    "sum=1\n",
    "for i in list2:\n",
    "    sum=sum*i\n",
    "print(sum)"
   ]
  },
  {
   "cell_type": "markdown",
   "id": "c455820d",
   "metadata": {},
   "source": [
    "# Find the smallest number in the list"
   ]
  },
  {
   "cell_type": "code",
   "execution_count": 41,
   "id": "776b8056",
   "metadata": {},
   "outputs": [
    {
     "name": "stdout",
     "output_type": "stream",
     "text": [
      "1\n"
     ]
    }
   ],
   "source": [
    "small_list=[1,2,3,0,4,5,6,7,8]\n",
    "min=small_list[0]\n",
    "\n",
    "for i in small_list:\n",
    "    if small_list[i]<min:\n",
    "        min=small_list[i]\n",
    "print(min)"
   ]
  },
  {
   "cell_type": "markdown",
   "id": "b026b67d",
   "metadata": {},
   "source": [
    "# Find the largest number in list"
   ]
  },
  {
   "cell_type": "code",
   "execution_count": 35,
   "id": "42a3fc6a",
   "metadata": {},
   "outputs": [
    {
     "name": "stdout",
     "output_type": "stream",
     "text": [
      "78\n"
     ]
    }
   ],
   "source": [
    "list3=[1,2,3,4,5,6,78,8]\n",
    "\n",
    "print(max(list3))"
   ]
  },
  {
   "cell_type": "code",
   "execution_count": 43,
   "id": "41d5617c",
   "metadata": {},
   "outputs": [
    {
     "name": "stdout",
     "output_type": "stream",
     "text": [
      "333\n"
     ]
    }
   ],
   "source": [
    "list__=[1,333,2,4,2,4,66,55]\n",
    "\n",
    "max=list__[0]\n",
    "\n",
    "for i in list__:\n",
    "    if i>max:\n",
    "        max=i\n",
    "print(max)\n",
    "        \n",
    "\n",
    "\n"
   ]
  },
  {
   "cell_type": "markdown",
   "id": "c418083f",
   "metadata": {},
   "source": [
    "# python programme to print even no in list"
   ]
  },
  {
   "cell_type": "code",
   "execution_count": 49,
   "id": "b156922c",
   "metadata": {},
   "outputs": [
    {
     "name": "stdout",
     "output_type": "stream",
     "text": [
      "2\n",
      "4\n",
      "6\n",
      "8\n",
      "2\n",
      "44\n",
      "66\n"
     ]
    }
   ],
   "source": [
    "list=[1,2,3,4,5,6,7,8,9,11,2,33,44,55,66]\n",
    "for i in list:\n",
    "    if i%2==0:\n",
    "        print(i)"
   ]
  },
  {
   "cell_type": "markdown",
   "id": "05905fca",
   "metadata": {},
   "source": [
    "# python code to find all the even no in the list"
   ]
  },
  {
   "cell_type": "code",
   "execution_count": 47,
   "id": "ce0ec2b5",
   "metadata": {},
   "outputs": [
    {
     "name": "stdout",
     "output_type": "stream",
     "text": [
      "1\n",
      "3\n",
      "5\n",
      "7\n",
      "9\n",
      "11\n",
      "33\n",
      "55\n"
     ]
    }
   ],
   "source": [
    "list=[1,2,3,4,5,6,7,8,9,11,2,33,44,55,66]\n",
    "for i in list:\n",
    "    if i%2!=0:\n",
    "        print(i)"
   ]
  },
  {
   "cell_type": "markdown",
   "id": "7a4155c6",
   "metadata": {},
   "source": [
    "# write a programme to print all positive numbers in list"
   ]
  },
  {
   "cell_type": "code",
   "execution_count": 48,
   "id": "611112c6",
   "metadata": {},
   "outputs": [
    {
     "name": "stdout",
     "output_type": "stream",
     "text": [
      "1\n",
      "2\n",
      "3\n",
      "5\n",
      "6\n",
      "8\n",
      "9\n",
      "2\n",
      "55\n",
      "66\n"
     ]
    }
   ],
   "source": [
    "list=[1,2,3,-4,5,6,-7,8,9,-11,2,-33,-44,55,66]\n",
    "for i in list:\n",
    "    if i>=0:\n",
    "        print(i)"
   ]
  },
  {
   "cell_type": "markdown",
   "id": "70b85477",
   "metadata": {},
   "source": [
    "# write a programme to print all positive numbers in list"
   ]
  },
  {
   "cell_type": "code",
   "execution_count": 50,
   "id": "ee05a6d3",
   "metadata": {},
   "outputs": [
    {
     "name": "stdout",
     "output_type": "stream",
     "text": [
      "-4\n",
      "-7\n",
      "-11\n",
      "-33\n",
      "-44\n"
     ]
    }
   ],
   "source": [
    "list=[1,2,3,-4,5,6,-7,8,9,-11,2,-33,-44,55,66]\n",
    "for i in list:\n",
    "    if i<0:\n",
    "        print(i)"
   ]
  },
  {
   "cell_type": "code",
   "execution_count": 52,
   "id": "f7c27753",
   "metadata": {},
   "outputs": [
    {
     "name": "stdout",
     "output_type": "stream",
     "text": [
      "10 5\n"
     ]
    }
   ],
   "source": [
    "list=[1,2,3,-4,5,6,-7,8,9,-11,2,-33,-44,55,66]\n",
    "pos_count ,neg_count=0,0\n",
    "for i in list:\n",
    "    if i>=0:\n",
    "        pos_count+=1\n",
    "    else:\n",
    "        neg_count+=1\n",
    "print(pos_count,neg_count)"
   ]
  },
  {
   "cell_type": "code",
   "execution_count": null,
   "id": "82f8f70d",
   "metadata": {},
   "outputs": [],
   "source": []
  }
 ],
 "metadata": {
  "kernelspec": {
   "display_name": "Python 3",
   "language": "python",
   "name": "python3"
  },
  "language_info": {
   "codemirror_mode": {
    "name": "ipython",
    "version": 3
   },
   "file_extension": ".py",
   "mimetype": "text/x-python",
   "name": "python",
   "nbconvert_exporter": "python",
   "pygments_lexer": "ipython3",
   "version": "3.8.8"
  }
 },
 "nbformat": 4,
 "nbformat_minor": 5
}
