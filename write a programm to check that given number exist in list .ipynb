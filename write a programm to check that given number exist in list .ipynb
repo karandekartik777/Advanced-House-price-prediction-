{
 "cells": [
  {
   "cell_type": "code",
   "execution_count": 34,
   "id": "d9fef3dd",
   "metadata": {},
   "outputs": [],
   "source": [
    "def in_list(list, element):\n",
    "    for i in list:\n",
    "        if i == element:\n",
    "            print(\"exists in list \")\n",
    "        else:\n",
    "            return -1"
   ]
  },
  {
   "cell_type": "code",
   "execution_count": 35,
   "id": "e0a784af",
   "metadata": {},
   "outputs": [
    {
     "data": {
      "text/plain": [
       "-1"
      ]
     },
     "execution_count": 35,
     "metadata": {},
     "output_type": "execute_result"
    }
   ],
   "source": [
    "list1=[1,2,3,4,5,6,7]\n",
    "in_list(list1,3)"
   ]
  },
  {
   "cell_type": "markdown",
   "id": "a2b897a4",
   "metadata": {},
   "source": [
    "# write a python code to reversed a list"
   ]
  },
  {
   "cell_type": "code",
   "execution_count": 36,
   "id": "88af82c7",
   "metadata": {},
   "outputs": [
    {
     "name": "stdout",
     "output_type": "stream",
     "text": [
      "the reversed element in the list are 6\n",
      "the reversed element in the list are 5\n",
      "the reversed element in the list are 4\n",
      "the reversed element in the list are 3\n",
      "the reversed element in the list are 2\n",
      "the reversed element in the list are 1\n"
     ]
    }
   ],
   "source": [
    "kartik=[1,2,3,4,5,6]\n",
    "\n",
    "for i in reversed(kartik):\n",
    "\n",
    "    print(f'the reversed element in the list are { i }')"
   ]
  },
  {
   "cell_type": "code",
   "execution_count": null,
   "id": "320b929e",
   "metadata": {},
   "outputs": [],
   "source": []
  }
 ],
 "metadata": {
  "kernelspec": {
   "display_name": "Python 3",
   "language": "python",
   "name": "python3"
  },
  "language_info": {
   "codemirror_mode": {
    "name": "ipython",
    "version": 3
   },
   "file_extension": ".py",
   "mimetype": "text/x-python",
   "name": "python",
   "nbconvert_exporter": "python",
   "pygments_lexer": "ipython3",
   "version": "3.8.8"
  }
 },
 "nbformat": 4,
 "nbformat_minor": 5
}
